{
 "cells": [
  {
   "metadata": {
    "ExecuteTime": {
     "end_time": "2024-07-10T17:21:18.347752Z",
     "start_time": "2024-07-10T17:21:18.347683Z"
    }
   },
   "cell_type": "code",
   "source": [
    "from synthetic_task_gen.create_task import *\n",
    "%matplotlib widget\n",
    "\n",
    "# Plot individual randomized waypath\n",
    "sample_params = {\"waypoints_range\":[2, 5], \"obj_waypoint_bound\": 150, \"coplanar_scale\": 2,\n",
    "                 \"keep_ori_prob\": 0.6, \"screw_prob\": 0.4, \"screw_step_mult\": 2, \"step_range\": [15, 30],\n",
    "                 \"obj_num_range\": [1, 2], \"arc_radius_range\": [0.8, 150], 'arc_tilt_radian': [-np.pi, np.pi],\n",
    "                 \"arc_radius_noise\": 0.001, 'arc_tilt_noise': 0.001, \n",
    "                 \"start_point\": [-400, -400, 100, 0, 0, 0, 1]}\n",
    "waypath_samples, waypt_samples = generate_waypath(sample_params)\n",
    "display_trajectory(waypath_samples, [waypt_samples])"
   ],
   "id": "d762512103698438",
   "outputs": [],
   "execution_count": null
  },
  {
   "metadata": {},
   "cell_type": "code",
   "source": [
    "# Generate and save task dataset \n",
    "import os\n",
    "import pickle as pkl\n",
    "\n",
    "SAVE_FILE_PATH = f\"./saved_data/\"\n",
    "NUM_DEMOS = 10\n",
    "UNIQUE_OBJS = [\"obj0\", \"obj1\", \"obj2\"]\n",
    "N_OBJS = len(UNIQUE_OBJS)\n",
    "\n",
    "split_types = [\"train\", \"valid\", \"test\"]\n",
    "task_sizes = [10, 25, 50]\n",
    "dataset_ids = [0, 1, 2]\n",
    "for tsize in task_sizes:\n",
    "    for i in dataset_ids:\n",
    "        generator = TaskGenerator(sample_params, UNIQUE_OBJS, n_tasks=tsize)\n",
    "        generated_dataset = {t:{} for t in generator.task_names}\n",
    "        for split in split_types:\n",
    "            generated_data_split = generator.sample_demos(NUM_DEMOS)\n",
    "            # Create train/valid/test split\n",
    "            for task_id, dataset in generated_data_split.items():\n",
    "                generated_dataset[task_id][f\"{split}_obj\"] = dataset[0]\n",
    "                generated_dataset[task_id][f\"{split}_seq\"] = dataset[1]\n",
    "\n",
    "        # save_path = os.path.join(SAVE_FILE_PATH, f\"data_{dsize}tasks_{NUM_DEMOS}demos_set{i}.pkl\")\n",
    "        # with open(save_path, \"wb\") as fout:\n",
    "        #     pkl.dump(generated_dataset, fout)"
   ],
   "id": "f2e1ad9aef284165",
   "outputs": [],
   "execution_count": null
  },
  {
   "metadata": {},
   "cell_type": "code",
   "source": [
    "obj_sequence = [] \n",
    "traj_sequence = []\n",
    "for i in range(1):\n",
    "    obj_pose = generated_dataset['task0']['train_obj'][i][:,:7]\n",
    "    traj_pose = generated_dataset['task0']['train_seq'][i][:,:7]\n",
    "    obj_sequence.append(obj_pose)\n",
    "    traj_sequence.append(traj_pose)\n",
    "display_trajectory(traj_sequence, obj_sequence)"
   ],
   "id": "68c0814482116493",
   "outputs": [],
   "execution_count": null
  },
  {
   "cell_type": "code",
   "id": "d9e01d03",
   "metadata": {},
   "source": [
    "# Plot trajectories across execution\n",
    "comb_waypath = np.concatenate(traj_sequence, axis=0)\n",
    "count = 0\n",
    "check_pts = []\n",
    "check_pts.append(count)\n",
    "    \n",
    "dim_names = ['x','y','z','qx','qy','qz','qw']\n",
    "dims = len(dim_names)\n",
    "fig, ax = plt.subplots(dims,1, figsize=(6,11))\n",
    "for i in range(dims):\n",
    "    upper, lower = 0, 0\n",
    "    for traj in traj_sequence:\n",
    "        upper = max(upper, traj[:,i].max())\n",
    "        lower = min(lower, traj[:,i].min())\n",
    "        ax[i].plot(range(traj.shape[0]), traj[:,i], '--', color='blue', alpha=.5)\n",
    "    ax[i].vlines(check_pts, [lower-0.5 for k in check_pts], [upper+0.5 for k in check_pts], color='red')\n",
    "    ax[i].set_ylabel(f'{dim_names[i]}')\n",
    "plt.show()"
   ],
   "outputs": [],
   "execution_count": null
  }
 ],
 "metadata": {
  "kernelspec": {
   "display_name": "Python 3 (ipykernel)",
   "language": "python",
   "name": "python3"
  },
  "language_info": {
   "codemirror_mode": {
    "name": "ipython",
    "version": 3
   },
   "file_extension": ".py",
   "mimetype": "text/x-python",
   "name": "python",
   "nbconvert_exporter": "python",
   "pygments_lexer": "ipython3",
   "version": "3.10.14"
  }
 },
 "nbformat": 4,
 "nbformat_minor": 5
}
